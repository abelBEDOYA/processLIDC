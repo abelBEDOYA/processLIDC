{
 "cells": [
  {
   "cell_type": "code",
   "execution_count": 1,
   "metadata": {},
   "outputs": [],
   "source": [
    "import torch\n",
    "# Mi libreria:\n",
    "%load_ext autoreload\n",
    "%autoreload 2\n",
    "from processLIDC import Patient\n",
    "import matplotlib.pyplot as plt\n",
    "import numpy as np\n",
    "import seaborn as sns\n",
    "from sklearn.metrics import confusion_matrix\n",
    "from tqdm import tqdm"
   ]
  },
  {
   "cell_type": "code",
   "execution_count": null,
   "metadata": {},
   "outputs": [],
   "source": []
  },
  {
   "cell_type": "code",
   "execution_count": 4,
   "metadata": {},
   "outputs": [
    {
     "name": "stdout",
     "output_type": "stream",
     "text": [
      "(2.8284271247461903, 0, 2)\n"
     ]
    }
   ],
   "source": [
    "from scipy.spatial.distance import directed_hausdorff\n",
    "\n",
    "points1 = np.array([[1, 2, 3], [4, 5, 6], [7, 8, 9]])\n",
    "points2 = np.array([[9, 8, 7], [6, 5, 4], [3, 2, 1]])\n",
    "\n",
    "distance = directed_hausdorff(points1, points2)\n",
    "print(distance)\n"
   ]
  },
  {
   "cell_type": "code",
   "execution_count": null,
   "metadata": {},
   "outputs": [],
   "source": []
  }
 ],
 "metadata": {
  "kernelspec": {
   "display_name": "base",
   "language": "python",
   "name": "python3"
  },
  "language_info": {
   "codemirror_mode": {
    "name": "ipython",
    "version": 3
   },
   "file_extension": ".py",
   "mimetype": "text/x-python",
   "name": "python",
   "nbconvert_exporter": "python",
   "pygments_lexer": "ipython3",
   "version": "3.9.7"
  },
  "orig_nbformat": 4
 },
 "nbformat": 4,
 "nbformat_minor": 2
}
