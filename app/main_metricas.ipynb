{
 "cells": [
  {
   "attachments": {},
   "cell_type": "markdown",
   "metadata": {},
   "source": [
    "## Analizar la metricas de rendimientos"
   ]
  },
  {
   "cell_type": "code",
   "execution_count": 25,
   "metadata": {},
   "outputs": [
    {
     "name": "stdout",
     "output_type": "stream",
     "text": [
      "The autoreload extension is already loaded. To reload it, use:\n",
      "  %reload_ext autoreload\n"
     ]
    }
   ],
   "source": [
    "import torch\n",
    "# Mi libreria:\n",
    "%load_ext autoreload\n",
    "%autoreload 2\n",
    "from processLIDC import Patient\n",
    "import matplotlib.pyplot as plt\n",
    "import numpy as np\n",
    "import seaborn as sns\n",
    "from sklearn.metrics import confusion_matrix"
   ]
  },
  {
   "cell_type": "code",
   "execution_count": null,
   "metadata": {},
   "outputs": [],
   "source": []
  },
  {
   "cell_type": "code",
   "execution_count": 2,
   "metadata": {},
   "outputs": [],
   "source": [
    "patient = Patient(\"LIDC-IDRI-0002\")\n",
    "patient.scale()"
   ]
  },
  {
   "cell_type": "code",
   "execution_count": 5,
   "metadata": {},
   "outputs": [
    {
     "data": {
      "text/plain": [
       "RecursiveScriptModule(\n",
       "  original_name=UNet\n",
       "  (encoder1): RecursiveScriptModule(\n",
       "    original_name=Sequential\n",
       "    (enc1conv1): RecursiveScriptModule(original_name=Conv2d)\n",
       "    (enc1norm1): RecursiveScriptModule(original_name=BatchNorm2d)\n",
       "    (enc1relu1): RecursiveScriptModule(original_name=ReLU)\n",
       "    (enc1conv2): RecursiveScriptModule(original_name=Conv2d)\n",
       "    (enc1norm2): RecursiveScriptModule(original_name=BatchNorm2d)\n",
       "    (enc1relu2): RecursiveScriptModule(original_name=ReLU)\n",
       "  )\n",
       "  (pool1): RecursiveScriptModule(original_name=MaxPool2d)\n",
       "  (encoder2): RecursiveScriptModule(\n",
       "    original_name=Sequential\n",
       "    (enc2conv1): RecursiveScriptModule(original_name=Conv2d)\n",
       "    (enc2norm1): RecursiveScriptModule(original_name=BatchNorm2d)\n",
       "    (enc2relu1): RecursiveScriptModule(original_name=ReLU)\n",
       "    (enc2conv2): RecursiveScriptModule(original_name=Conv2d)\n",
       "    (enc2norm2): RecursiveScriptModule(original_name=BatchNorm2d)\n",
       "    (enc2relu2): RecursiveScriptModule(original_name=ReLU)\n",
       "  )\n",
       "  (pool2): RecursiveScriptModule(original_name=MaxPool2d)\n",
       "  (encoder3): RecursiveScriptModule(\n",
       "    original_name=Sequential\n",
       "    (enc3conv1): RecursiveScriptModule(original_name=Conv2d)\n",
       "    (enc3norm1): RecursiveScriptModule(original_name=BatchNorm2d)\n",
       "    (enc3relu1): RecursiveScriptModule(original_name=ReLU)\n",
       "    (enc3conv2): RecursiveScriptModule(original_name=Conv2d)\n",
       "    (enc3norm2): RecursiveScriptModule(original_name=BatchNorm2d)\n",
       "    (enc3relu2): RecursiveScriptModule(original_name=ReLU)\n",
       "  )\n",
       "  (pool3): RecursiveScriptModule(original_name=MaxPool2d)\n",
       "  (encoder4): RecursiveScriptModule(\n",
       "    original_name=Sequential\n",
       "    (enc4conv1): RecursiveScriptModule(original_name=Conv2d)\n",
       "    (enc4norm1): RecursiveScriptModule(original_name=BatchNorm2d)\n",
       "    (enc4relu1): RecursiveScriptModule(original_name=ReLU)\n",
       "    (enc4conv2): RecursiveScriptModule(original_name=Conv2d)\n",
       "    (enc4norm2): RecursiveScriptModule(original_name=BatchNorm2d)\n",
       "    (enc4relu2): RecursiveScriptModule(original_name=ReLU)\n",
       "  )\n",
       "  (pool4): RecursiveScriptModule(original_name=MaxPool2d)\n",
       "  (bottleneck): RecursiveScriptModule(\n",
       "    original_name=Sequential\n",
       "    (bottleneckconv1): RecursiveScriptModule(original_name=Conv2d)\n",
       "    (bottlenecknorm1): RecursiveScriptModule(original_name=BatchNorm2d)\n",
       "    (bottleneckrelu1): RecursiveScriptModule(original_name=ReLU)\n",
       "    (bottleneckconv2): RecursiveScriptModule(original_name=Conv2d)\n",
       "    (bottlenecknorm2): RecursiveScriptModule(original_name=BatchNorm2d)\n",
       "    (bottleneckrelu2): RecursiveScriptModule(original_name=ReLU)\n",
       "  )\n",
       "  (upconv4): RecursiveScriptModule(original_name=ConvTranspose2d)\n",
       "  (decoder4): RecursiveScriptModule(\n",
       "    original_name=Sequential\n",
       "    (dec4conv1): RecursiveScriptModule(original_name=Conv2d)\n",
       "    (dec4norm1): RecursiveScriptModule(original_name=BatchNorm2d)\n",
       "    (dec4relu1): RecursiveScriptModule(original_name=ReLU)\n",
       "    (dec4conv2): RecursiveScriptModule(original_name=Conv2d)\n",
       "    (dec4norm2): RecursiveScriptModule(original_name=BatchNorm2d)\n",
       "    (dec4relu2): RecursiveScriptModule(original_name=ReLU)\n",
       "  )\n",
       "  (upconv3): RecursiveScriptModule(original_name=ConvTranspose2d)\n",
       "  (decoder3): RecursiveScriptModule(\n",
       "    original_name=Sequential\n",
       "    (dec3conv1): RecursiveScriptModule(original_name=Conv2d)\n",
       "    (dec3norm1): RecursiveScriptModule(original_name=BatchNorm2d)\n",
       "    (dec3relu1): RecursiveScriptModule(original_name=ReLU)\n",
       "    (dec3conv2): RecursiveScriptModule(original_name=Conv2d)\n",
       "    (dec3norm2): RecursiveScriptModule(original_name=BatchNorm2d)\n",
       "    (dec3relu2): RecursiveScriptModule(original_name=ReLU)\n",
       "  )\n",
       "  (upconv2): RecursiveScriptModule(original_name=ConvTranspose2d)\n",
       "  (decoder2): RecursiveScriptModule(\n",
       "    original_name=Sequential\n",
       "    (dec2conv1): RecursiveScriptModule(original_name=Conv2d)\n",
       "    (dec2norm1): RecursiveScriptModule(original_name=BatchNorm2d)\n",
       "    (dec2relu1): RecursiveScriptModule(original_name=ReLU)\n",
       "    (dec2conv2): RecursiveScriptModule(original_name=Conv2d)\n",
       "    (dec2norm2): RecursiveScriptModule(original_name=BatchNorm2d)\n",
       "    (dec2relu2): RecursiveScriptModule(original_name=ReLU)\n",
       "  )\n",
       "  (upconv1): RecursiveScriptModule(original_name=ConvTranspose2d)\n",
       "  (decoder1): RecursiveScriptModule(\n",
       "    original_name=Sequential\n",
       "    (dec1conv1): RecursiveScriptModule(original_name=Conv2d)\n",
       "    (dec1norm1): RecursiveScriptModule(original_name=BatchNorm2d)\n",
       "    (dec1relu1): RecursiveScriptModule(original_name=ReLU)\n",
       "    (dec1conv2): RecursiveScriptModule(original_name=Conv2d)\n",
       "    (dec1norm2): RecursiveScriptModule(original_name=BatchNorm2d)\n",
       "    (dec1relu2): RecursiveScriptModule(original_name=ReLU)\n",
       "  )\n",
       "  (conv): RecursiveScriptModule(original_name=Conv2d)\n",
       ")"
      ]
     },
     "execution_count": 5,
     "metadata": {},
     "output_type": "execute_result"
    }
   ],
   "source": [
    "model = torch.jit.load('model_scripted.pt')\n",
    "model.to('cuda')\n",
    "model.eval()"
   ]
  },
  {
   "cell_type": "code",
   "execution_count": 21,
   "metadata": {},
   "outputs": [],
   "source": [
    "pred = patient.predict(model, slices=(176,), scaled=True, gpu = True)\n",
    "images, mask = patient.get_tensors(scaled = False)\n",
    "mask = mask.cpu().detach().numpy()\n",
    "\n",
    "thres = 0.5\n",
    "pred_bin = np.where(pred >= thres, 1, 0)"
   ]
  },
  {
   "cell_type": "code",
   "execution_count": 29,
   "metadata": {},
   "outputs": [
    {
     "name": "stdout",
     "output_type": "stream",
     "text": [
      "(256, 256)\n",
      "(256, 256)\n",
      "1 1.0\n"
     ]
    },
    {
     "data": {
      "image/png": "[encoded data removed]",
      "text/plain": [
       "<Figure size 432x288 with 1 Axes>"
      ]
     },
     "metadata": {
      "needs_background": "light"
     },
     "output_type": "display_data"
    },
    {
     "data": {
      "image/png": "[encoded data removed]",
      "text/plain": [
       "<Figure size 432x288 with 1 Axes>"
      ]
     },
     "metadata": {
      "needs_background": "light"
     },
     "output_type": "display_data"
    }
   ],
   "source": [
    "print(pred[0,0].shape)\n",
    "print(mask[176].shape)\n",
    "print(np.max(pred_bin), np.max(mask))\n",
    "\n",
    "plt.imshow(mask[176])\n",
    "plt.show()\n",
    "plt.imshow(pred_bin[0,0])\n",
    "plt.show()"
   ]
  },
  {
   "cell_type": "code",
   "execution_count": 32,
   "metadata": {},
   "outputs": [
    {
     "data": {
      "image/png": "[encoded data removed]",
      "text/plain": [
       "<Figure size 432x288 with 1 Axes>"
      ]
     },
     "metadata": {
      "needs_background": "light"
     },
     "output_type": "display_data"
    }
   ],
   "source": [
    "\n",
    "prediccion = pred_bin[0,0].ravel()\n",
    "\n",
    "# Utilizando la función ravel()\n",
    "label = mask[176].flatten()\n",
    "\n",
    "\n",
    "cm = confusion_matrix(label, prediccion)\n",
    "\n",
    "# Etiquetas de las clases\n",
    "# labels = np.unique(mask)\n",
    "\n",
    "# Crear figura y ejes\n",
    "fig, ax = plt.subplots()\n",
    "\n",
    "# Crear mapa de calor utilizando seaborn\n",
    "sns.heatmap(cm, annot=True, fmt=\"d\", cmap=\"Blues\", cbar=False, square=True)  # , xticklabels=labels, yticklabels=labels)\n",
    "\n",
    "# Añadir etiquetas a los ejes\n",
    "ax.set_xlabel(\"Etiqueta Predicha\")\n",
    "ax.set_ylabel(\"Etiqueta Verdadera\")\n",
    "\n",
    "# Añadir título\n",
    "ax.set_title(\"Matriz de Confusión\")\n",
    "\n",
    "# Mostrar la figura\n",
    "plt.show()"
   ]
  }
 ],
 "metadata": {
  "kernelspec": {
   "display_name": "base",
   "language": "python",
   "name": "python3"
  },
  "language_info": {
   "codemirror_mode": {
    "name": "ipython",
    "version": 3
   },
   "file_extension": ".py",
   "mimetype": "text/x-python",
   "name": "python",
   "nbconvert_exporter": "python",
   "pygments_lexer": "ipython3",
   "version": "3.9.7"
  },
  "orig_nbformat": 4
 },
 "nbformat": 4,
 "nbformat_minor": 2
}
