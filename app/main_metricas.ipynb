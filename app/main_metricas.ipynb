{
 "cells": [
  {
   "attachments": {},
   "cell_type": "markdown",
   "metadata": {},
   "source": [
    "## Analizar la metricas de rendimientos"
   ]
  },
  {
   "cell_type": "code",
   "execution_count": 1,
   "metadata": {},
   "outputs": [],
   "source": [
    "import torch\n",
    "# Mi libreria:\n",
    "%load_ext autoreload\n",
    "%autoreload 2\n",
    "from processLIDC import Patient\n",
    "import matplotlib.pyplot as plt\n",
    "import numpy as np\n",
    "import seaborn as sns\n",
    "from sklearn.metrics import confusion_matrix\n",
    "from tqdm import tqdm"
   ]
  },
  {
   "cell_type": "code",
   "execution_count": 23,
   "metadata": {},
   "outputs": [],
   "source": [
    "def get_confusion_matrix(id_patient, model, threshold = 0.5, batch = 10):\n",
    "    cm = np.zeros((2,2))\n",
    "    print(cm)\n",
    "    patient = Patient(\"LIDC-IDRI-0002\")\n",
    "    patient.scale()\n",
    "    images, mask = patient.get_tensors(scaled = False)\n",
    "    mask = mask.cpu().detach().numpy()\n",
    "    n_slices = mask.shape[0]\n",
    "    for i in tqdm(range(0, n_slices, batch)):\n",
    "        if i <160 or i>190:\n",
    "            continue\n",
    "        slices = (i, i+batch)\n",
    "        pred = patient.predict(model, slices=slices, scaled=True, gpu = True)\n",
    "        pred_bin = np.where(pred >= threshold, 1, 0)\n",
    "        prediccion = pred_bin[:,0].flatten()\n",
    "        \n",
    "        # Utilizando la función ravel()\n",
    "        label = mask[slices[0]:slices[-1]].flatten()\n",
    "        cm_ = confusion_matrix(label, prediccion, labels=(0,1))\n",
    "        cm = cm + np.array(cm_)\n",
    "        \n",
    "    \n",
    "    print('terminado')\n",
    "    return cm"
   ]
  },
  {
   "cell_type": "code",
   "execution_count": 73,
   "metadata": {},
   "outputs": [],
   "source": [
    "def get_confusion_matrix2(id_patient, model, threshold = 0.5, batch = 10):\n",
    "    cm = np.zeros((2,2))\n",
    "    print(cm)\n",
    "    patient = Patient(id_patient)\n",
    "    patient.scale()\n",
    "    images, mask = patient.get_tensors(scaled = False)\n",
    "    mask = mask.cpu().detach().numpy()\n",
    "    n_slices = mask.shape[0]\n",
    "    slices = (0, batch)\n",
    "    prediccion = patient.predict(model, slices=slices, scaled=True, gpu = True)\n",
    "    prediccion = np.where(prediccion >= threshold, 1, 0)[:,0,:,:]\n",
    "    \n",
    "    print(prediccion.shape)\n",
    "    _ = []\n",
    "    \n",
    "    for i in tqdm(range(batch, n_slices, batch)):\n",
    "        \n",
    "        if i <70 or i>90:\n",
    "            continue\n",
    "        \n",
    "        slices = (i, i+batch)\n",
    "        pred = patient.predict(model, slices=slices, scaled=True, gpu = True)\n",
    "        pred_bin = np.where(pred >= threshold, 1, 0)[:,0,:,:]\n",
    "        prediccion = np.concatenate((prediccion, pred_bin), axis=0)\n",
    "        \n",
    "        print(prediccion.shape)\n",
    "        # Utilizando la función ravel()\n",
    "        _.append(i)\n",
    "        _.append(i+batch)\n",
    "        print(i+batch)\n",
    "        \n",
    "    \n",
    "    print(mask[_[0]:_[0]+prediccion.shape[0]].shape)\n",
    "    print(prediccion.shape)\n",
    "    \n",
    "    \n",
    "    label = mask[_[0]:_[0]+prediccion.shape[0]].flatten()\n",
    "    # label = mask.flatten()\n",
    "    \n",
    "    prediccion = prediccion.flatten()\n",
    "    cm_ = confusion_matrix(label, prediccion, labels=(0,1))\n",
    "    cm = cm + np.array(cm_)\n",
    "    \n",
    "    print('terminado')\n",
    "    return cm"
   ]
  },
  {
   "cell_type": "code",
   "execution_count": 71,
   "metadata": {},
   "outputs": [],
   "source": [
    "def get_confusion_matrix3(id_patient, model, threshold = 0.5, batch = 10):\n",
    "    cm = np.zeros((2,2))\n",
    "    if isinstance(id_patient,str):\n",
    "        cm = get_confusion_matrix2(id_patient, model, threshold =threshold, batch = batch)\n",
    "        return cm\n",
    "    else:\n",
    "        cm = get_confusion_matrix2(id_patient[0], model, threshold =threshold, batch = batch)\n",
    "        for id in tqdm(id_patient[1:]):\n",
    "            cm = cm + get_confusion_matrix2(id, model, threshold =threshold, batch = batch)\n",
    "        return cm\n"
   ]
  },
  {
   "cell_type": "code",
   "execution_count": null,
   "metadata": {},
   "outputs": [],
   "source": [
    "patient = Patient(\"LIDC-IDRI-0002\")\n",
    "patient.scale()"
   ]
  },
  {
   "cell_type": "code",
   "execution_count": 3,
   "metadata": {},
   "outputs": [
    {
     "data": {
      "text/plain": [
       "RecursiveScriptModule(\n",
       "  original_name=UNet\n",
       "  (encoder1): RecursiveScriptModule(\n",
       "    original_name=Sequential\n",
       "    (enc1conv1): RecursiveScriptModule(original_name=Conv2d)\n",
       "    (enc1norm1): RecursiveScriptModule(original_name=BatchNorm2d)\n",
       "    (enc1relu1): RecursiveScriptModule(original_name=ReLU)\n",
       "    (enc1conv2): RecursiveScriptModule(original_name=Conv2d)\n",
       "    (enc1norm2): RecursiveScriptModule(original_name=BatchNorm2d)\n",
       "    (enc1relu2): RecursiveScriptModule(original_name=ReLU)\n",
       "  )\n",
       "  (pool1): RecursiveScriptModule(original_name=MaxPool2d)\n",
       "  (encoder2): RecursiveScriptModule(\n",
       "    original_name=Sequential\n",
       "    (enc2conv1): RecursiveScriptModule(original_name=Conv2d)\n",
       "    (enc2norm1): RecursiveScriptModule(original_name=BatchNorm2d)\n",
       "    (enc2relu1): RecursiveScriptModule(original_name=ReLU)\n",
       "    (enc2conv2): RecursiveScriptModule(original_name=Conv2d)\n",
       "    (enc2norm2): RecursiveScriptModule(original_name=BatchNorm2d)\n",
       "    (enc2relu2): RecursiveScriptModule(original_name=ReLU)\n",
       "  )\n",
       "  (pool2): RecursiveScriptModule(original_name=MaxPool2d)\n",
       "  (encoder3): RecursiveScriptModule(\n",
       "    original_name=Sequential\n",
       "    (enc3conv1): RecursiveScriptModule(original_name=Conv2d)\n",
       "    (enc3norm1): RecursiveScriptModule(original_name=BatchNorm2d)\n",
       "    (enc3relu1): RecursiveScriptModule(original_name=ReLU)\n",
       "    (enc3conv2): RecursiveScriptModule(original_name=Conv2d)\n",
       "    (enc3norm2): RecursiveScriptModule(original_name=BatchNorm2d)\n",
       "    (enc3relu2): RecursiveScriptModule(original_name=ReLU)\n",
       "  )\n",
       "  (pool3): RecursiveScriptModule(original_name=MaxPool2d)\n",
       "  (encoder4): RecursiveScriptModule(\n",
       "    original_name=Sequential\n",
       "    (enc4conv1): RecursiveScriptModule(original_name=Conv2d)\n",
       "    (enc4norm1): RecursiveScriptModule(original_name=BatchNorm2d)\n",
       "    (enc4relu1): RecursiveScriptModule(original_name=ReLU)\n",
       "    (enc4conv2): RecursiveScriptModule(original_name=Conv2d)\n",
       "    (enc4norm2): RecursiveScriptModule(original_name=BatchNorm2d)\n",
       "    (enc4relu2): RecursiveScriptModule(original_name=ReLU)\n",
       "  )\n",
       "  (pool4): RecursiveScriptModule(original_name=MaxPool2d)\n",
       "  (bottleneck): RecursiveScriptModule(\n",
       "    original_name=Sequential\n",
       "    (bottleneckconv1): RecursiveScriptModule(original_name=Conv2d)\n",
       "    (bottlenecknorm1): RecursiveScriptModule(original_name=BatchNorm2d)\n",
       "    (bottleneckrelu1): RecursiveScriptModule(original_name=ReLU)\n",
       "    (bottleneckconv2): RecursiveScriptModule(original_name=Conv2d)\n",
       "    (bottlenecknorm2): RecursiveScriptModule(original_name=BatchNorm2d)\n",
       "    (bottleneckrelu2): RecursiveScriptModule(original_name=ReLU)\n",
       "  )\n",
       "  (upconv4): RecursiveScriptModule(original_name=ConvTranspose2d)\n",
       "  (decoder4): RecursiveScriptModule(\n",
       "    original_name=Sequential\n",
       "    (dec4conv1): RecursiveScriptModule(original_name=Conv2d)\n",
       "    (dec4norm1): RecursiveScriptModule(original_name=BatchNorm2d)\n",
       "    (dec4relu1): RecursiveScriptModule(original_name=ReLU)\n",
       "    (dec4conv2): RecursiveScriptModule(original_name=Conv2d)\n",
       "    (dec4norm2): RecursiveScriptModule(original_name=BatchNorm2d)\n",
       "    (dec4relu2): RecursiveScriptModule(original_name=ReLU)\n",
       "  )\n",
       "  (upconv3): RecursiveScriptModule(original_name=ConvTranspose2d)\n",
       "  (decoder3): RecursiveScriptModule(\n",
       "    original_name=Sequential\n",
       "    (dec3conv1): RecursiveScriptModule(original_name=Conv2d)\n",
       "    (dec3norm1): RecursiveScriptModule(original_name=BatchNorm2d)\n",
       "    (dec3relu1): RecursiveScriptModule(original_name=ReLU)\n",
       "    (dec3conv2): RecursiveScriptModule(original_name=Conv2d)\n",
       "    (dec3norm2): RecursiveScriptModule(original_name=BatchNorm2d)\n",
       "    (dec3relu2): RecursiveScriptModule(original_name=ReLU)\n",
       "  )\n",
       "  (upconv2): RecursiveScriptModule(original_name=ConvTranspose2d)\n",
       "  (decoder2): RecursiveScriptModule(\n",
       "    original_name=Sequential\n",
       "    (dec2conv1): RecursiveScriptModule(original_name=Conv2d)\n",
       "    (dec2norm1): RecursiveScriptModule(original_name=BatchNorm2d)\n",
       "    (dec2relu1): RecursiveScriptModule(original_name=ReLU)\n",
       "    (dec2conv2): RecursiveScriptModule(original_name=Conv2d)\n",
       "    (dec2norm2): RecursiveScriptModule(original_name=BatchNorm2d)\n",
       "    (dec2relu2): RecursiveScriptModule(original_name=ReLU)\n",
       "  )\n",
       "  (upconv1): RecursiveScriptModule(original_name=ConvTranspose2d)\n",
       "  (decoder1): RecursiveScriptModule(\n",
       "    original_name=Sequential\n",
       "    (dec1conv1): RecursiveScriptModule(original_name=Conv2d)\n",
       "    (dec1norm1): RecursiveScriptModule(original_name=BatchNorm2d)\n",
       "    (dec1relu1): RecursiveScriptModule(original_name=ReLU)\n",
       "    (dec1conv2): RecursiveScriptModule(original_name=Conv2d)\n",
       "    (dec1norm2): RecursiveScriptModule(original_name=BatchNorm2d)\n",
       "    (dec1relu2): RecursiveScriptModule(original_name=ReLU)\n",
       "  )\n",
       "  (conv): RecursiveScriptModule(original_name=Conv2d)\n",
       ")"
      ]
     },
     "execution_count": 3,
     "metadata": {},
     "output_type": "execute_result"
    }
   ],
   "source": [
    "model = torch.jit.load('model_scripted.pt')\n",
    "model.to('cuda')\n",
    "model.eval()"
   ]
  },
  {
   "cell_type": "code",
   "execution_count": null,
   "metadata": {},
   "outputs": [],
   "source": [
    "slices = (176, 183)\n",
    "pred = patient.predict(model, slices=slices, scaled=True, gpu = True)\n",
    "images, mask = patient.get_tensors(scaled = False)\n",
    "mask = mask.cpu().detach().numpy()\n",
    "\n",
    "thres = 0.5\n",
    "pred_bin = np.where(pred >= thres, 1, 0)"
   ]
  },
  {
   "cell_type": "code",
   "execution_count": null,
   "metadata": {},
   "outputs": [],
   "source": [
    "print(pred.shape)\n",
    "print(pred_bin.shape)\n",
    "print(mask.shape)\n",
    "print(np.max(pred_bin), np.max(mask))\n",
    "\n",
    "# plt.imshow(mask[176])\n",
    "# plt.show()\n",
    "# plt.imshow(pred_bin[0,0])\n",
    "# plt.show()"
   ]
  },
  {
   "cell_type": "code",
   "execution_count": null,
   "metadata": {},
   "outputs": [],
   "source": [
    "\n",
    "prediccion = pred_bin[:,0].flatten()\n",
    "\n",
    "# # Utilizando la función ravel()\n",
    "label = mask[slices[0]:slices[-1]].flatten()\n",
    "\n",
    "print(prediccion.shape)\n",
    "print(label.shape)\n",
    "cm = confusion_matrix(label, prediccion)\n",
    "\n",
    "# Etiquetas de las clases\n",
    "# labels = np.unique(mask)\n",
    "\n",
    "# Crear figura y ejes\n",
    "fig, ax = plt.subplots()\n",
    "\n",
    "# Crear mapa de calor utilizando seaborn\n",
    "sns.heatmap(cm, annot=True, fmt=\"d\", cmap=\"Blues\", cbar=False, square=True)  # , xticklabels=labels, yticklabels=labels)\n",
    "\n",
    "# Añadir etiquetas a los ejes\n",
    "ax.set_xlabel(\"Etiqueta Predicha\")\n",
    "ax.set_ylabel(\"Etiqueta Verdadera\")\n",
    "\n",
    "# Añadir título\n",
    "ax.set_title(\"Matriz de Confusión\")\n",
    "\n",
    "# Mostrar la figura\n",
    "plt.show()"
   ]
  },
  {
   "cell_type": "code",
   "execution_count": 74,
   "metadata": {},
   "outputs": [
    {
     "name": "stdout",
     "output_type": "stream",
     "text": [
      "[[0. 0.]\n",
      " [0. 0.]]\n",
      "(3, 256, 256)\n"
     ]
    },
    {
     "name": "stderr",
     "output_type": "stream",
     "text": [
      " 28%|██▊       | 24/86 [00:01<00:03, 17.77it/s]"
     ]
    },
    {
     "name": "stdout",
     "output_type": "stream",
     "text": [
      "(6, 256, 256)\n",
      "75\n",
      "(9, 256, 256)\n",
      "78\n"
     ]
    },
    {
     "name": "stderr",
     "output_type": "stream",
     "text": [
      " 30%|███       | 26/86 [00:03<00:11,  5.25it/s]"
     ]
    },
    {
     "name": "stdout",
     "output_type": "stream",
     "text": [
      "(12, 256, 256)\n",
      "81\n"
     ]
    },
    {
     "name": "stderr",
     "output_type": "stream",
     "text": [
      " 31%|███▏      | 27/86 [00:05<00:15,  3.70it/s]"
     ]
    },
    {
     "name": "stdout",
     "output_type": "stream",
     "text": [
      "(15, 256, 256)\n",
      "84\n"
     ]
    },
    {
     "name": "stderr",
     "output_type": "stream",
     "text": [
      " 33%|███▎      | 28/86 [00:06<00:21,  2.72it/s]"
     ]
    },
    {
     "name": "stdout",
     "output_type": "stream",
     "text": [
      "(18, 256, 256)\n",
      "87\n"
     ]
    },
    {
     "name": "stderr",
     "output_type": "stream",
     "text": [
      " 34%|███▎      | 29/86 [00:08<00:27,  2.05it/s]"
     ]
    },
    {
     "name": "stdout",
     "output_type": "stream",
     "text": [
      "(21, 256, 256)\n",
      "90\n"
     ]
    },
    {
     "name": "stderr",
     "output_type": "stream",
     "text": [
      "100%|██████████| 86/86 [00:09<00:00,  9.15it/s]"
     ]
    },
    {
     "name": "stdout",
     "output_type": "stream",
     "text": [
      "(24, 256, 256)\n",
      "93\n",
      "(24, 256, 256)\n",
      "(24, 256, 256)\n"
     ]
    },
    {
     "name": "stderr",
     "output_type": "stream",
     "text": [
      "\n"
     ]
    },
    {
     "name": "stdout",
     "output_type": "stream",
     "text": [
      "terminado\n"
     ]
    },
    {
     "name": "stderr",
     "output_type": "stream",
     "text": [
      "  0%|          | 0/1 [00:00<?, ?it/s]"
     ]
    },
    {
     "name": "stdout",
     "output_type": "stream",
     "text": [
      "[[0. 0.]\n",
      " [0. 0.]]\n",
      "(3, 256, 256)\n"
     ]
    },
    {
     "name": "stderr",
     "output_type": "stream",
     "text": []
    },
    {
     "name": "stdout",
     "output_type": "stream",
     "text": [
      "(6, 256, 256)\n",
      "75\n",
      "(9, 256, 256)\n",
      "78\n",
      "(12, 256, 256)\n",
      "81\n",
      "(15, 256, 256)\n",
      "84\n"
     ]
    },
    {
     "name": "stderr",
     "output_type": "stream",
     "text": []
    },
    {
     "name": "stdout",
     "output_type": "stream",
     "text": [
      "(18, 256, 256)\n",
      "87\n",
      "(21, 256, 256)\n",
      "90\n"
     ]
    },
    {
     "name": "stderr",
     "output_type": "stream",
     "text": [
      "100%|██████████| 41/41 [00:04<00:00,  9.21it/s]"
     ]
    },
    {
     "name": "stdout",
     "output_type": "stream",
     "text": [
      "(24, 256, 256)\n",
      "93\n",
      "(24, 256, 256)\n",
      "(24, 256, 256)\n"
     ]
    },
    {
     "name": "stderr",
     "output_type": "stream",
     "text": [
      "\n",
      "100%|██████████| 1/1 [00:07<00:00,  7.85s/it]"
     ]
    },
    {
     "name": "stdout",
     "output_type": "stream",
     "text": [
      "terminado\n"
     ]
    },
    {
     "name": "stderr",
     "output_type": "stream",
     "text": [
      "\n"
     ]
    }
   ],
   "source": [
    "cm = get_confusion_matrix3([\"LIDC-IDRI-0002\",\"LIDC-IDRI-0013\"], model, threshold=0.3, batch = 3)"
   ]
  },
  {
   "cell_type": "code",
   "execution_count": 75,
   "metadata": {},
   "outputs": [
    {
     "data": {
      "text/plain": [
       "array([[3.144245e+06, 9.100000e+02],\n",
       "       [5.730000e+02, 0.000000e+00]])"
      ]
     },
     "execution_count": 75,
     "metadata": {},
     "output_type": "execute_result"
    }
   ],
   "source": [
    "np.array(cm).shape\n",
    "cm"
   ]
  },
  {
   "cell_type": "code",
   "execution_count": 76,
   "metadata": {},
   "outputs": [
    {
     "data": {
      "image/png": "[encoded data removed]",
      "text/plain": [
       "<Figure size 432x288 with 1 Axes>"
      ]
     },
     "metadata": {
      "needs_background": "light"
     },
     "output_type": "display_data"
    }
   ],
   "source": [
    "fig, ax = plt.subplots()\n",
    "\n",
    "# Crear mapa de calor utilizando seaborn\n",
    "sns.heatmap(np.int32(cm/100), annot=True, fmt=\"d\", cmap=\"Blues\", cbar=False, square=True)  # , xticklabels=labels, yticklabels=labels)\n",
    "\n",
    "# Añadir etiquetas a los ejes\n",
    "ax.set_xlabel(\"Etiqueta Predicha\")\n",
    "ax.set_ylabel(\"Etiqueta Verdadera\")\n",
    "\n",
    "# Añadir título\n",
    "ax.set_title(\"Matriz de Confusión\")\n",
    "\n",
    "# Mostrar la figura\n",
    "plt.show()"
   ]
  }
 ],
 "metadata": {
  "kernelspec": {
   "display_name": "base",
   "language": "python",
   "name": "python3"
  },
  "language_info": {
   "codemirror_mode": {
    "name": "ipython",
    "version": 3
   },
   "file_extension": ".py",
   "mimetype": "text/x-python",
   "name": "python",
   "nbconvert_exporter": "python",
   "pygments_lexer": "ipython3",
   "version": "3.9.7"
  },
  "orig_nbformat": 4
 },
 "nbformat": 4,
 "nbformat_minor": 2
}
