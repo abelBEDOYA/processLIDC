{
 "cells": [
  {
   "cell_type": "code",
   "execution_count": 1,
   "metadata": {},
   "outputs": [],
   "source": [
    "import torch.nn as nn\n",
    "import torch\n",
    "from torch.utils.data import TensorDataset, DataLoader\n",
    "from skimage.measure import find_contours\n",
    "import matplotlib.pyplot as plt\n",
    "import numpy as np\n",
    "import os\n",
    "from tqdm import tqdm\n",
    "import random"
   ]
  },
  {
   "cell_type": "code",
   "execution_count": 2,
   "metadata": {},
   "outputs": [],
   "source": [
    "# Mi libreria:\n",
    "from processLIDC import Patient"
   ]
  },
  {
   "cell_type": "code",
   "execution_count": 3,
   "metadata": {},
   "outputs": [],
   "source": [
    "# vuelvo a instanciar:\n",
    "patient = Patient(\"LIDC-IDRI-0013\")\n",
    "patient.scale()"
   ]
  },
  {
   "attachments": {},
   "cell_type": "markdown",
   "metadata": {},
   "source": [
    "Importamos el modelo del cerebro preenrenado:"
   ]
  },
  {
   "cell_type": "code",
   "execution_count": 4,
   "metadata": {},
   "outputs": [
    {
     "name": "stderr",
     "output_type": "stream",
     "text": [
      "Using cache found in /home/faraujo/.cache/torch/hub/mateuszbuda_brain-segmentation-pytorch_master\n"
     ]
    }
   ],
   "source": [
    "model = torch.hub.load('mateuszbuda/brain-segmentation-pytorch', 'unet',\n",
    "                       in_channels=3, out_channels=1, init_features=32, pretrained=True)"
   ]
  },
  {
   "attachments": {},
   "cell_type": "markdown",
   "metadata": {},
   "source": [
    "## Entrenar un batch"
   ]
  },
  {
   "cell_type": "code",
   "execution_count": 5,
   "metadata": {},
   "outputs": [
    {
     "name": "stdout",
     "output_type": "stream",
     "text": [
      "T_destination\n",
      "add_module\n",
      "apply\n",
      "bfloat16\n",
      "bottleneck\n",
      "buffers\n",
      "children\n",
      "conv\n",
      "cpu\n",
      "cuda\n",
      "decoder1\n",
      "decoder2\n",
      "decoder3\n",
      "decoder4\n",
      "double\n",
      "dump_patches\n",
      "encoder1\n",
      "encoder2\n",
      "encoder3\n",
      "encoder4\n",
      "eval\n",
      "extra_repr\n",
      "float\n",
      "forward\n",
      "get_buffer\n",
      "get_extra_state\n",
      "get_parameter\n",
      "get_submodule\n",
      "half\n",
      "load_state_dict\n",
      "modules\n",
      "named_buffers\n",
      "named_children\n",
      "named_modules\n",
      "named_parameters\n",
      "parameters\n",
      "pool1\n",
      "pool2\n",
      "pool3\n",
      "pool4\n",
      "register_backward_hook\n",
      "register_buffer\n",
      "register_forward_hook\n",
      "register_forward_pre_hook\n",
      "register_full_backward_hook\n",
      "register_module\n",
      "register_parameter\n",
      "requires_grad_\n",
      "set_extra_state\n",
      "share_memory\n",
      "state_dict\n",
      "to\n",
      "to_empty\n",
      "train\n",
      "training\n",
      "type\n",
      "upconv1\n",
      "upconv2\n",
      "upconv3\n",
      "upconv4\n",
      "xpu\n",
      "zero_grad\n"
     ]
    }
   ],
   "source": [
    "## Metodos y atributos del modelo de pytorch:\n",
    "ll = ['T_destination', '__annotations__', '__call__', '__class__', '__delattr__', '__dict__', '__dir__', '__doc__', '__eq__', '__format__', '__ge__', '__getattr__', '__getattribute__', '__gt__', '__hash__', '__init__', '__init_subclass__', '__le__', '__lt__', '__module__', '__ne__', '__new__', '__reduce__', '__reduce_ex__', '__repr__', '__setattr__', '__setstate__', '__sizeof__', '__str__', '__subclasshook__', '__weakref__', '_apply', '_backward_hooks', '_block', '_buffers', '_call_impl', '_forward_hooks', '_forward_pre_hooks', '_get_backward_hooks', '_get_name', '_is_full_backward_hook', '_load_from_state_dict', '_load_state_dict_pre_hooks', '_maybe_warn_non_full_backward_hook', '_modules', '_named_members', '_non_persistent_buffers_set', '_parameters', '_register_load_state_dict_pre_hook', '_register_state_dict_hook', '_replicate_for_data_parallel', '_save_to_state_dict', '_slow_forward', '_state_dict_hooks', '_version', 'add_module', 'apply', 'bfloat16', 'bottleneck', 'buffers', 'children', 'conv', 'cpu', 'cuda', 'decoder1', 'decoder2', 'decoder3', 'decoder4', 'double', 'dump_patches', 'encoder1', 'encoder2', 'encoder3', 'encoder4', 'eval', 'extra_repr', 'float', 'forward', 'get_buffer', 'get_extra_state', 'get_parameter', 'get_submodule', 'half', 'load_state_dict', 'modules', 'named_buffers', 'named_children', 'named_modules', 'named_parameters', 'parameters', 'pool1', 'pool2', 'pool3', 'pool4', 'register_backward_hook', 'register_buffer', 'register_forward_hook', 'register_forward_pre_hook', 'register_full_backward_hook', 'register_module', 'register_parameter', 'requires_grad_', 'set_extra_state', 'share_memory', 'state_dict', 'to', 'to_empty', 'train', 'training', 'type', 'upconv1', 'upconv2', 'upconv3', 'upconv4', 'xpu', 'zero_grad']\n",
    "for l in ll:\n",
    "    if not '_' == l[0]:\n",
    "        print(l)"
   ]
  },
  {
   "cell_type": "code",
   "execution_count": 6,
   "metadata": {},
   "outputs": [],
   "source": [
    "imgs, mask = patient.get_tensors(scaled=True)"
   ]
  },
  {
   "cell_type": "code",
   "execution_count": 7,
   "metadata": {},
   "outputs": [],
   "source": [
    "# # Definir función de pérdida\n",
    "# loss_fn = nn.BCELoss()\n",
    "\n",
    "# # Definir optimizador\n",
    "# optimizer = torch.optim.Adam(model.parameters(), lr=0.001)\n",
    "# n_slices = 10\n",
    "# primera = 88-n_slices\n",
    "# ultima = 88+n_slices\n",
    "# dataset = TensorDataset(imgs[primera:ultima], mask[primera:ultima])\n",
    "\n",
    "# # Lista para almacenar la pérdida de entrenamiento\n",
    "# train_loss_history = []\n",
    "\n",
    "# # Crear el train_loader\n",
    "# batch_size = 4\n",
    "# train_loader = DataLoader(dataset,batch_size=9, shuffle=True)\n",
    "# for epoch in range(20):\n",
    "\n",
    "#     for batch_idx, (data, target) in enumerate(train_loader):\n",
    "#         # print(data.shape, target.shape)\n",
    "#         # # Forward pass\n",
    "#         output = model(data)\n",
    "#         # Calcular pérdida\n",
    "#         # plt.imshow(target[0])\n",
    "#         # plt.show()\n",
    "#         # print(data.shape, target.shape, output.shape)\n",
    "#         loss = loss_fn(output[:,0], target)\n",
    "\n",
    "#         # # # Calcular gradientes y actualizar parámetros\n",
    "#         optimizer.zero_grad()\n",
    "#         loss.backward()\n",
    "#         optimizer.step()\n",
    "        \n",
    "#         train_loss_history.append(loss.item())\n",
    "\n",
    "#         # Imprimir progreso\n",
    "#         if batch_idx % 10 == 0:\n",
    "#             print('Train Epoch: {} [{}/{} ({:.0f}%)]\\tLoss: {:.6f}'.format(\n",
    "#                 epoch, batch_idx * len(data), len(train_loader.dataset),\n",
    "#                 100. * batch_idx / len(train_loader), loss.item()))\n"
   ]
  },
  {
   "cell_type": "code",
   "execution_count": 8,
   "metadata": {},
   "outputs": [],
   "source": [
    "# plt.plot(np.log(np.array(train_loss_history)), label='Training Loss')\n",
    "# plt.xlabel('Epoch')\n",
    "# plt.ylabel('Loss')\n",
    "# plt.legend()\n",
    "# plt.show()"
   ]
  },
  {
   "attachments": {},
   "cell_type": "markdown",
   "metadata": {},
   "source": [
    "## Probemoslo:"
   ]
  },
  {
   "cell_type": "code",
   "execution_count": 9,
   "metadata": {},
   "outputs": [],
   "source": [
    "# imgs, mask = patient.get_tensors(scaled=True)"
   ]
  },
  {
   "cell_type": "code",
   "execution_count": 10,
   "metadata": {},
   "outputs": [],
   "source": [
    "# # slices:\n",
    "# # primera = 164\n",
    "# # ultima = 189\n",
    "\n",
    "# # Predecir:\n",
    "# pred = model(imgs[primera:ultima])\n",
    "# pred = torch.round(pred).detach().numpy()"
   ]
  },
  {
   "cell_type": "code",
   "execution_count": 11,
   "metadata": {},
   "outputs": [],
   "source": [
    "# imgs[primera:ultima].shape"
   ]
  },
  {
   "cell_type": "code",
   "execution_count": 12,
   "metadata": {},
   "outputs": [],
   "source": [
    "# for i in range(20):\n",
    "#     plt.imshow(pred[i].reshape(256,-1)+0.3*np.array(imgs[primera+i, 0]))\n",
    "#     plt.title('prediccion, slce: {}'.format(primera+i))\n",
    "#     plt.show()\n",
    "#     plt.imshow(mask[primera+i]+0.3*np.array(imgs[primera+i, 0]))\n",
    "#     plt.title('etiqueta, slce: {}'.format(primera+i))\n",
    "#     plt.show()"
   ]
  },
  {
   "attachments": {},
   "cell_type": "markdown",
   "metadata": {},
   "source": [
    "# Entrenar con lista de pacientes:"
   ]
  },
  {
   "cell_type": "code",
   "execution_count": 13,
   "metadata": {},
   "outputs": [],
   "source": [
    "## Lista de pacientes:\n",
    "# patients = [\"LIDC-IDRI-0002\", \"LIDC-IDRI-0005\", \"LIDC-IDRI-0013\"]\n",
    "# pat = \"LIDC-IDRI-0000\"\n",
    "patients = os.listdir('../../manifest-1675801116903/LIDC-IDRI/')\n",
    "patients = [pat for pat in patients if not pat=='LICENSE']\n",
    "patients = [\"LIDC-IDRI-0002\"]  # , \"LIDC-IDRI-0005\", \"LIDC-IDRI-0013\"]"
   ]
  },
  {
   "cell_type": "code",
   "execution_count": 14,
   "metadata": {},
   "outputs": [
    {
     "name": "stdout",
     "output_type": "stream",
     "text": [
      "Epoch: 1/10\n"
     ]
    },
    {
     "name": "stderr",
     "output_type": "stream",
     "text": [
      "  0%|          | 0/1 [00:00<?, ?it/s]"
     ]
    },
    {
     "name": "stdout",
     "output_type": "stream",
     "text": [
      "Cargando paciente: LIDC-IDRI-0002\n"
     ]
    },
    {
     "name": "stderr",
     "output_type": "stream",
     "text": [
      "100%|██████████| 1/1 [00:13<00:00, 13.62s/it]\n"
     ]
    },
    {
     "name": "stdout",
     "output_type": "stream",
     "text": [
      "Train Epoch: 0\tLoss: 0.375385\n",
      "-----------------------------------\n",
      "Epoch: 2/10\n"
     ]
    },
    {
     "name": "stderr",
     "output_type": "stream",
     "text": [
      "  0%|          | 0/1 [00:00<?, ?it/s]"
     ]
    },
    {
     "name": "stdout",
     "output_type": "stream",
     "text": [
      "Cargando paciente: LIDC-IDRI-0002\n"
     ]
    },
    {
     "name": "stderr",
     "output_type": "stream",
     "text": [
      "100%|██████████| 1/1 [00:13<00:00, 13.76s/it]\n"
     ]
    },
    {
     "name": "stdout",
     "output_type": "stream",
     "text": [
      "Train Epoch: 1\tLoss: 0.011732\n",
      "-----------------------------------\n",
      "Epoch: 3/10\n"
     ]
    },
    {
     "name": "stderr",
     "output_type": "stream",
     "text": [
      "  0%|          | 0/1 [00:00<?, ?it/s]"
     ]
    },
    {
     "name": "stdout",
     "output_type": "stream",
     "text": [
      "Cargando paciente: LIDC-IDRI-0002\n"
     ]
    },
    {
     "name": "stderr",
     "output_type": "stream",
     "text": [
      "100%|██████████| 1/1 [00:13<00:00, 13.76s/it]\n"
     ]
    },
    {
     "name": "stdout",
     "output_type": "stream",
     "text": [
      "Train Epoch: 2\tLoss: 0.007237\n",
      "-----------------------------------\n",
      "Epoch: 4/10\n"
     ]
    },
    {
     "name": "stderr",
     "output_type": "stream",
     "text": [
      "  0%|          | 0/1 [00:00<?, ?it/s]"
     ]
    },
    {
     "name": "stdout",
     "output_type": "stream",
     "text": [
      "Cargando paciente: LIDC-IDRI-0002\n"
     ]
    },
    {
     "name": "stderr",
     "output_type": "stream",
     "text": [
      "100%|██████████| 1/1 [00:14<00:00, 14.86s/it]\n"
     ]
    },
    {
     "name": "stdout",
     "output_type": "stream",
     "text": [
      "Train Epoch: 3\tLoss: 0.004041\n",
      "-----------------------------------\n",
      "Epoch: 5/10\n"
     ]
    },
    {
     "name": "stderr",
     "output_type": "stream",
     "text": [
      "  0%|          | 0/1 [00:00<?, ?it/s]"
     ]
    },
    {
     "name": "stdout",
     "output_type": "stream",
     "text": [
      "Cargando paciente: LIDC-IDRI-0002\n"
     ]
    },
    {
     "name": "stderr",
     "output_type": "stream",
     "text": [
      "100%|██████████| 1/1 [00:13<00:00, 13.11s/it]\n"
     ]
    },
    {
     "name": "stdout",
     "output_type": "stream",
     "text": [
      "Train Epoch: 4\tLoss: 0.002848\n",
      "-----------------------------------\n",
      "Epoch: 6/10\n"
     ]
    },
    {
     "name": "stderr",
     "output_type": "stream",
     "text": [
      "  0%|          | 0/1 [00:00<?, ?it/s]"
     ]
    },
    {
     "name": "stdout",
     "output_type": "stream",
     "text": [
      "Cargando paciente: LIDC-IDRI-0002\n"
     ]
    },
    {
     "name": "stderr",
     "output_type": "stream",
     "text": [
      "100%|██████████| 1/1 [00:13<00:00, 13.65s/it]\n"
     ]
    },
    {
     "name": "stdout",
     "output_type": "stream",
     "text": [
      "Train Epoch: 5\tLoss: 0.002230\n",
      "-----------------------------------\n",
      "Epoch: 7/10\n"
     ]
    },
    {
     "name": "stderr",
     "output_type": "stream",
     "text": [
      "  0%|          | 0/1 [00:00<?, ?it/s]"
     ]
    },
    {
     "name": "stdout",
     "output_type": "stream",
     "text": [
      "Cargando paciente: LIDC-IDRI-0002\n"
     ]
    },
    {
     "name": "stderr",
     "output_type": "stream",
     "text": [
      "100%|██████████| 1/1 [00:13<00:00, 13.82s/it]\n"
     ]
    },
    {
     "name": "stdout",
     "output_type": "stream",
     "text": [
      "Train Epoch: 6\tLoss: 0.002179\n",
      "-----------------------------------\n",
      "Epoch: 8/10\n"
     ]
    },
    {
     "name": "stderr",
     "output_type": "stream",
     "text": [
      "  0%|          | 0/1 [00:00<?, ?it/s]"
     ]
    },
    {
     "name": "stdout",
     "output_type": "stream",
     "text": [
      "Cargando paciente: LIDC-IDRI-0002\n"
     ]
    },
    {
     "name": "stderr",
     "output_type": "stream",
     "text": [
      "100%|██████████| 1/1 [00:13<00:00, 13.62s/it]\n"
     ]
    },
    {
     "name": "stdout",
     "output_type": "stream",
     "text": [
      "Train Epoch: 7\tLoss: 0.001650\n",
      "-----------------------------------\n",
      "Epoch: 9/10\n"
     ]
    },
    {
     "name": "stderr",
     "output_type": "stream",
     "text": [
      "  0%|          | 0/1 [00:00<?, ?it/s]"
     ]
    },
    {
     "name": "stdout",
     "output_type": "stream",
     "text": [
      "Cargando paciente: LIDC-IDRI-0002\n"
     ]
    },
    {
     "name": "stderr",
     "output_type": "stream",
     "text": [
      "100%|██████████| 1/1 [00:12<00:00, 12.19s/it]\n"
     ]
    },
    {
     "name": "stdout",
     "output_type": "stream",
     "text": [
      "Train Epoch: 8\tLoss: 0.001526\n",
      "-----------------------------------\n",
      "Epoch: 10/10\n"
     ]
    },
    {
     "name": "stderr",
     "output_type": "stream",
     "text": [
      "  0%|          | 0/1 [00:00<?, ?it/s]"
     ]
    },
    {
     "name": "stdout",
     "output_type": "stream",
     "text": [
      "Cargando paciente: LIDC-IDRI-0002\n"
     ]
    },
    {
     "name": "stderr",
     "output_type": "stream",
     "text": [
      "100%|██████████| 1/1 [00:12<00:00, 12.44s/it]"
     ]
    },
    {
     "name": "stdout",
     "output_type": "stream",
     "text": [
      "Train Epoch: 9\tLoss: 0.001648\n",
      "-----------------------------------\n"
     ]
    },
    {
     "name": "stderr",
     "output_type": "stream",
     "text": [
      "\n"
     ]
    }
   ],
   "source": [
    "# Numero de epocas:\n",
    "n_epochs = 10\n",
    "\n",
    "# Definir función de pérdida\n",
    "loss_fn = nn.BCELoss()\n",
    "\n",
    "# Definir optimizador\n",
    "optimizer = torch.optim.Adam(model.parameters(), lr=0.001)\n",
    "\n",
    "\n",
    "loss_batch = np.array([])\n",
    "batch_loss_history = np.array([])\n",
    "\n",
    "loss_patient = np.array([])\n",
    "patient_loss_history = np.array([])\n",
    "\n",
    "epoch_loss_history = np.array([])\n",
    "epoch_loss_history = np.array([])\n",
    "\n",
    "for epoch in range(n_epochs):\n",
    "    print(f'Epoch: {epoch+1}/{n_epochs}')\n",
    "    loss_patient = np.array([])\n",
    "    random.shuffle(patients)\n",
    "    for id_pat in tqdm(patients):\n",
    "        print('Cargando paciente: {}'.format(id_pat))\n",
    "        # Cargamos datos de un paciente:\n",
    "        patient = Patient(id_pat)\n",
    "        \n",
    "        # Escalamos:\n",
    "        patient.scale()\n",
    "        \n",
    "        # Obtenemos los tensores:\n",
    "        imgs, mask = patient.get_tensors(scaled=True)\n",
    "        \n",
    "        # Preparamos tensores para recorrerlos:\n",
    "        primera = 170\n",
    "        ultima = 185\n",
    "        dataset = TensorDataset(imgs[primera:ultima], mask[primera:ultima])\n",
    "        # dataset = TensorDataset(imgs, mask)\n",
    "        \n",
    "\n",
    "        train_loader = DataLoader(dataset,batch_size=2, shuffle=True)\n",
    "        loss_batch = np.array([])\n",
    "        for batch_idx, (data, target) in enumerate(train_loader):\n",
    "\n",
    "            # # Forward pass\n",
    "            output = model(data)\n",
    "            # Calcular pérdida\n",
    "            loss = loss_fn(output[:,0], target)\n",
    "\n",
    "            # # # Calcular gradientes y actualizar parámetros\n",
    "            optimizer.zero_grad()\n",
    "            loss.backward()\n",
    "            optimizer.step()\n",
    "            \n",
    "            loss_batch = np.append(loss_batch, loss.item())\n",
    "            batch_loss_history = np.append(batch_loss_history, loss.item())\n",
    "\n",
    "        loss_patient = np.append(loss_patient, np.mean(np.array(loss_batch)))\n",
    "        patient_loss_history = np.append(patient_loss_history, np.mean(np.array(loss_batch)))\n",
    "        \n",
    "    epoch_loss_history = np.append(epoch_loss_history, np.mean(np.array(loss_patient)))\n",
    "    print('Train Epoch: {}\\tLoss: {:.6f}'.format(\n",
    "        epoch, epoch_loss_history[-1]))\n",
    "    print('-----------------------------------')\n"
   ]
  },
  {
   "cell_type": "code",
   "execution_count": 15,
   "metadata": {},
   "outputs": [
    {
     "data": {
      "text/plain": [
       "10"
      ]
     },
     "execution_count": 15,
     "metadata": {},
     "output_type": "execute_result"
    }
   ],
   "source": [
    "len(epoch_loss_history)"
   ]
  },
  {
   "cell_type": "code",
   "execution_count": 16,
   "metadata": {},
   "outputs": [
    {
     "name": "stdout",
     "output_type": "stream",
     "text": [
      "['LIDC-IDRI-0002']\n"
     ]
    }
   ],
   "source": [
    "random.shuffle(patients)\n",
    "print(patients)"
   ]
  },
  {
   "cell_type": "code",
   "execution_count": 17,
   "metadata": {},
   "outputs": [
    {
     "data": {
      "text/plain": [
       "array([ 1.,  2.,  3.,  4.,  5.,  6.,  7.,  8.,  9., 10.])"
      ]
     },
     "execution_count": 17,
     "metadata": {},
     "output_type": "execute_result"
    }
   ],
   "source": [
    "np.linspace(1, 10, 10)"
   ]
  },
  {
   "cell_type": "code",
   "execution_count": 18,
   "metadata": {},
   "outputs": [
    {
     "data": {
      "image/png": "[encoded data removed]",
      "text/plain": [
       "<Figure size 432x288 with 1 Axes>"
      ]
     },
     "metadata": {
      "needs_background": "light"
     },
     "output_type": "display_data"
    }
   ],
   "source": [
    "plt.plot(np.linspace(1, n_epochs, np.array(batch_loss_history).shape[0]), np.log(np.array(batch_loss_history)), label='Batch Loss')\n",
    "plt.plot(np.linspace(1, n_epochs, np.array(patient_loss_history).shape[0]), np.log(np.array(patient_loss_history)), label='Patient Loss')\n",
    "plt.plot(np.linspace(1, n_epochs, n_epochs), np.log(np.array(epoch_loss_history)), label='Epoch Loss')\n",
    "plt.xlabel('Epoch')\n",
    "plt.ylabel('Loss')\n",
    "plt.legend()\n",
    "plt.show()"
   ]
  },
  {
   "attachments": {},
   "cell_type": "markdown",
   "metadata": {},
   "source": [
    "Hay que mirar de hacer un test y validation e ir viendo su error en la grafica."
   ]
  },
  {
   "cell_type": "code",
   "execution_count": 19,
   "metadata": {},
   "outputs": [],
   "source": [
    "torch.save(model.state_dict(), './model_overfitted.pth')"
   ]
  },
  {
   "cell_type": "code",
   "execution_count": 20,
   "metadata": {},
   "outputs": [],
   "source": [
    "model_scripted = torch.jit.script(model) # Export to TorchScript\n",
    "model_scripted.save('model_scripted.pt') # Save"
   ]
  }
 ],
 "metadata": {
  "kernelspec": {
   "display_name": "base",
   "language": "python",
   "name": "python3"
  },
  "language_info": {
   "codemirror_mode": {
    "name": "ipython",
    "version": 3
   },
   "file_extension": ".py",
   "mimetype": "text/x-python",
   "name": "python",
   "nbconvert_exporter": "python",
   "pygments_lexer": "ipython3",
   "version": "3.9.7"
  },
  "orig_nbformat": 4
 },
 "nbformat": 4,
 "nbformat_minor": 2
}
